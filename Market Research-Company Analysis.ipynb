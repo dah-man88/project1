{
 "cells": [
  {
   "cell_type": "code",
   "execution_count": 1,
   "metadata": {},
   "outputs": [],
   "source": [
    "import pandas as pd\n",
    "import numpy as np\n",
    "import matplotlib.pyplot as plt\n",
    "import os"
   ]
  },
  {
   "cell_type": "code",
   "execution_count": 2,
   "metadata": {},
   "outputs": [],
   "source": [
    "indeed_data = \"indeed_job_dataset.csv\""
   ]
  },
  {
   "cell_type": "code",
   "execution_count": 3,
   "metadata": {
    "scrolled": true
   },
   "outputs": [
    {
     "name": "stdout",
     "output_type": "stream",
     "text": [
      "<class 'pandas.core.frame.DataFrame'>\n",
      "RangeIndex: 5715 entries, 0 to 5714\n",
      "Data columns (total 43 columns):\n",
      "Unnamed: 0                          5715 non-null int64\n",
      "Job_Title                           5715 non-null object\n",
      "Link                                5715 non-null object\n",
      "Queried_Salary                      5715 non-null object\n",
      "Job_Type                            5715 non-null object\n",
      "Skill                               5483 non-null object\n",
      "No_of_Skills                        5715 non-null int64\n",
      "Company                             5611 non-null object\n",
      "No_of_Reviews                       4753 non-null float64\n",
      "No_of_Stars                         4753 non-null float64\n",
      "Date_Since_Posted                   5611 non-null float64\n",
      "Description                         5413 non-null object\n",
      "Location                            5463 non-null object\n",
      "Company_Revenue                     2017 non-null object\n",
      "Company_Employees                   3199 non-null object\n",
      "Company_Industry                    3826 non-null object\n",
      "python                              5715 non-null int64\n",
      "sql                                 5715 non-null int64\n",
      "machine learning                    5715 non-null int64\n",
      "r                                   5715 non-null int64\n",
      "hadoop                              5715 non-null int64\n",
      "tableau                             5715 non-null int64\n",
      "sas                                 5715 non-null int64\n",
      "spark                               5715 non-null int64\n",
      "java                                5715 non-null int64\n",
      "Others                              5715 non-null int64\n",
      "CA                                  5715 non-null int64\n",
      "NY                                  5715 non-null int64\n",
      "VA                                  5715 non-null int64\n",
      "TX                                  5715 non-null int64\n",
      "MA                                  5715 non-null int64\n",
      "IL                                  5715 non-null int64\n",
      "WA                                  5715 non-null int64\n",
      "MD                                  5715 non-null int64\n",
      "DC                                  5715 non-null int64\n",
      "NC                                  5715 non-null int64\n",
      "Other_states                        5715 non-null int64\n",
      "Consulting and Business Services    5715 non-null int64\n",
      "Internet and Software               5715 non-null int64\n",
      "Banks and Financial Services        5715 non-null int64\n",
      "Health Care                         5715 non-null int64\n",
      "Insurance                           5715 non-null int64\n",
      "Other_industries                    5715 non-null int64\n",
      "dtypes: float64(3), int64(29), object(11)\n",
      "memory usage: 1.9+ MB\n"
     ]
    }
   ],
   "source": [
    "df = pd.read_csv(indeed_data)\n",
    "df.info()\n",
    "# questions:\n",
    "# top five induestries\n",
    "# top five companies in those industries\n",
    "# rating of the companies\n",
    "#company revenue has sig abouts of null values 2017/5715, consider not using "
   ]
  },
  {
   "cell_type": "code",
   "execution_count": 4,
   "metadata": {
    "scrolled": false
   },
   "outputs": [],
   "source": [
    "# Collect only relevant columns \n",
    "columns = [\n",
    "    'Company_Industry',\n",
    "    'Company',\n",
    "    'No_of_Stars',\n",
    "]\n",
    "df_company = df[columns]\n"
   ]
  },
  {
   "cell_type": "code",
   "execution_count": 5,
   "metadata": {},
   "outputs": [
    {
     "data": {
      "text/html": [
       "<div>\n",
       "<style scoped>\n",
       "    .dataframe tbody tr th:only-of-type {\n",
       "        vertical-align: middle;\n",
       "    }\n",
       "\n",
       "    .dataframe tbody tr th {\n",
       "        vertical-align: top;\n",
       "    }\n",
       "\n",
       "    .dataframe thead th {\n",
       "        text-align: right;\n",
       "    }\n",
       "</style>\n",
       "<table border=\"1\" class=\"dataframe\">\n",
       "  <thead>\n",
       "    <tr style=\"text-align: right;\">\n",
       "      <th></th>\n",
       "      <th>Company_Industry</th>\n",
       "      <th>Company</th>\n",
       "      <th>No_of_Stars</th>\n",
       "    </tr>\n",
       "  </thead>\n",
       "  <tbody>\n",
       "    <tr>\n",
       "      <th>0</th>\n",
       "      <td>Health Care</td>\n",
       "      <td>Express Scripts</td>\n",
       "      <td>3.3</td>\n",
       "    </tr>\n",
       "    <tr>\n",
       "      <th>3</th>\n",
       "      <td>Government</td>\n",
       "      <td>Central Intelligence Agency</td>\n",
       "      <td>4.3</td>\n",
       "    </tr>\n",
       "    <tr>\n",
       "      <th>4</th>\n",
       "      <td>Banks and Financial Services</td>\n",
       "      <td>Federal Reserve Bank of Dallas</td>\n",
       "      <td>4.1</td>\n",
       "    </tr>\n",
       "    <tr>\n",
       "      <th>6</th>\n",
       "      <td>Government</td>\n",
       "      <td>NYC Careers</td>\n",
       "      <td>3.8</td>\n",
       "    </tr>\n",
       "    <tr>\n",
       "      <th>8</th>\n",
       "      <td>Education and Schools</td>\n",
       "      <td>University of Idaho</td>\n",
       "      <td>4.2</td>\n",
       "    </tr>\n",
       "    <tr>\n",
       "      <th>9</th>\n",
       "      <td>Government</td>\n",
       "      <td>usajobs.gov</td>\n",
       "      <td>4.3</td>\n",
       "    </tr>\n",
       "    <tr>\n",
       "      <th>10</th>\n",
       "      <td>Education and Schools</td>\n",
       "      <td>The University of Pittsburgh</td>\n",
       "      <td>4.2</td>\n",
       "    </tr>\n",
       "    <tr>\n",
       "      <th>11</th>\n",
       "      <td>Education and Schools</td>\n",
       "      <td>The University of Pittsburgh</td>\n",
       "      <td>4.2</td>\n",
       "    </tr>\n",
       "    <tr>\n",
       "      <th>12</th>\n",
       "      <td>Education and Schools</td>\n",
       "      <td>Rice University</td>\n",
       "      <td>4.3</td>\n",
       "    </tr>\n",
       "    <tr>\n",
       "      <th>14</th>\n",
       "      <td>Consulting and Business Services</td>\n",
       "      <td>Catalina Marketing</td>\n",
       "      <td>3.2</td>\n",
       "    </tr>\n",
       "  </tbody>\n",
       "</table>\n",
       "</div>"
      ],
      "text/plain": [
       "                    Company_Industry                         Company  \\\n",
       "0                        Health Care                 Express Scripts   \n",
       "3                         Government     Central Intelligence Agency   \n",
       "4       Banks and Financial Services  Federal Reserve Bank of Dallas   \n",
       "6                         Government                     NYC Careers   \n",
       "8              Education and Schools             University of Idaho   \n",
       "9                         Government                     usajobs.gov   \n",
       "10             Education and Schools    The University of Pittsburgh   \n",
       "11             Education and Schools    The University of Pittsburgh   \n",
       "12             Education and Schools                 Rice University   \n",
       "14  Consulting and Business Services              Catalina Marketing   \n",
       "\n",
       "    No_of_Stars  \n",
       "0           3.3  \n",
       "3           4.3  \n",
       "4           4.1  \n",
       "6           3.8  \n",
       "8           4.2  \n",
       "9           4.3  \n",
       "10          4.2  \n",
       "11          4.2  \n",
       "12          4.3  \n",
       "14          3.2  "
      ]
     },
     "execution_count": 5,
     "metadata": {},
     "output_type": "execute_result"
    }
   ],
   "source": [
    "#removing nulls from dataset\n",
    "df_company = df_company[df_company.Company_Industry.notnull()]\n",
    "df_company.head(10)"
   ]
  },
  {
   "cell_type": "markdown",
   "metadata": {},
   "source": [
    "# Top Industries:"
   ]
  },
  {
   "cell_type": "code",
   "execution_count": 6,
   "metadata": {},
   "outputs": [
    {
     "data": {
      "text/plain": [
       "array(['Health Care', 'Government', 'Banks and Financial Services',\n",
       "       'Education and Schools', 'Consulting and Business Services',\n",
       "       'Energy and Utilities', 'Aerospace and Defense',\n",
       "       'Internet and Software', 'Transport and Freight', 'Organization',\n",
       "       'Telecommunications', 'Retail', 'Computers and Electronics',\n",
       "       'Consumer Goods and Services', 'Insurance',\n",
       "       'Restaurants, Travel and Leisure', 'Media, News and Publishing',\n",
       "       'Pharmaceuticals', 'Industrial Manufacturing', 'Auto',\n",
       "       'Real Estate', 'Human Resources and Staffing',\n",
       "       'Food and Beverages', 'Construction',\n",
       "       'RetailConsumer Goods and Services', 'InsuranceHealth Care',\n",
       "       'Agriculture and Extraction',\n",
       "       'Industrial ManufacturingAgriculture and Extraction',\n",
       "       'Industrial ManufacturingConstruction', 'Real EstateReal Estate',\n",
       "       'Food and BeveragesConsulting and Business Services',\n",
       "       'Restaurants, Travel and LeisureConsulting and Business Services',\n",
       "       'Industrial ManufacturingConsumer Goods and Services'],\n",
       "      dtype=object)"
      ]
     },
     "execution_count": 6,
     "metadata": {},
     "output_type": "execute_result"
    }
   ],
   "source": [
    "#Review unique industry names in dataset\n",
    "industries = df_company.Company_Industry.unique()\n",
    "industries"
   ]
  },
  {
   "cell_type": "code",
   "execution_count": 7,
   "metadata": {},
   "outputs": [
    {
     "data": {
      "text/plain": [
       "Consulting and Business Services    733\n",
       "Internet and Software               647\n",
       "Banks and Financial Services        459\n",
       "Health Care                         339\n",
       "Insurance                           227\n",
       "Name: Company_Industry, dtype: int64"
      ]
     },
     "execution_count": 7,
     "metadata": {},
     "output_type": "execute_result"
    }
   ],
   "source": [
    "#top five industries by number of job listings \n",
    "series_by_industry = df_company['Company_Industry'].value_counts()\n",
    "series_by_industry.head(5)"
   ]
  },
  {
   "cell_type": "code",
   "execution_count": 8,
   "metadata": {},
   "outputs": [],
   "source": [
    "series_by_industry_top5 = series_by_industry.sort_values(ascending=False)[:5]\n",
    "top_5_industries = series_by_industry_top5.index"
   ]
  },
  {
   "cell_type": "code",
   "execution_count": 9,
   "metadata": {},
   "outputs": [
    {
     "data": {
      "text/plain": [
       "array([733, 647, 459, 339, 227], dtype=int64)"
      ]
     },
     "execution_count": 9,
     "metadata": {},
     "output_type": "execute_result"
    }
   ],
   "source": [
    "target_values = series_by_industry_top5.values\n",
    "target_values"
   ]
  },
  {
   "cell_type": "code",
   "execution_count": 10,
   "metadata": {
    "scrolled": true
   },
   "outputs": [
    {
     "data": {
      "image/png": "[encoded data removed]",
      "text/plain": [
       "<Figure size 432x288 with 1 Axes>"
      ]
     },
     "metadata": {},
     "output_type": "display_data"
    }
   ],
   "source": [
    "#plotting pie chart\n",
    "\n",
    "target_series = series_by_industry_top5\n",
    "\n",
    "\n",
    "labels = target_series.index\n",
    "sizes = target_series.values\n",
    "colors = [\"yellowgreen\",\"orange\",\"orangered\",\"cornflowerblue\",\"yellow\"]\n",
    "explode = (0.1,0,0,0,0)\n",
    "\n",
    "#Plot; note 'tight' allows for all text to be displayed on PDF\n",
    "plt.pie(sizes,  labels=labels,  colors = colors, autopct='%1.1f%%', shadow=True, startangle=140, textprops={'color':\"black\"})\n",
    "\n",
    "plt.axis('equal')\n",
    "plt.savefig('piechart_top5.png', bbox_inches=\"tight\", transparent = True)\n",
    "\n",
    "plt.show()\n"
   ]
  },
  {
   "cell_type": "markdown",
   "metadata": {},
   "source": [
    "# Top Companies Within Industries"
   ]
  },
  {
   "cell_type": "code",
   "execution_count": 11,
   "metadata": {},
   "outputs": [
    {
     "data": {
      "text/html": [
       "<div>\n",
       "<style scoped>\n",
       "    .dataframe tbody tr th:only-of-type {\n",
       "        vertical-align: middle;\n",
       "    }\n",
       "\n",
       "    .dataframe tbody tr th {\n",
       "        vertical-align: top;\n",
       "    }\n",
       "\n",
       "    .dataframe thead th {\n",
       "        text-align: right;\n",
       "    }\n",
       "</style>\n",
       "<table border=\"1\" class=\"dataframe\">\n",
       "  <thead>\n",
       "    <tr style=\"text-align: right;\">\n",
       "      <th></th>\n",
       "      <th>Company_Industry</th>\n",
       "      <th>Company</th>\n",
       "      <th>No_of_Stars</th>\n",
       "    </tr>\n",
       "  </thead>\n",
       "  <tbody>\n",
       "    <tr>\n",
       "      <th>0</th>\n",
       "      <td>Health Care</td>\n",
       "      <td>Express Scripts</td>\n",
       "      <td>3.3</td>\n",
       "    </tr>\n",
       "    <tr>\n",
       "      <th>3</th>\n",
       "      <td>Government</td>\n",
       "      <td>Central Intelligence Agency</td>\n",
       "      <td>4.3</td>\n",
       "    </tr>\n",
       "    <tr>\n",
       "      <th>4</th>\n",
       "      <td>Banks and Financial Services</td>\n",
       "      <td>Federal Reserve Bank of Dallas</td>\n",
       "      <td>4.1</td>\n",
       "    </tr>\n",
       "    <tr>\n",
       "      <th>6</th>\n",
       "      <td>Government</td>\n",
       "      <td>NYC Careers</td>\n",
       "      <td>3.8</td>\n",
       "    </tr>\n",
       "    <tr>\n",
       "      <th>8</th>\n",
       "      <td>Education and Schools</td>\n",
       "      <td>University of Idaho</td>\n",
       "      <td>4.2</td>\n",
       "    </tr>\n",
       "  </tbody>\n",
       "</table>\n",
       "</div>"
      ],
      "text/plain": [
       "               Company_Industry                         Company  No_of_Stars\n",
       "0                   Health Care                 Express Scripts          3.3\n",
       "3                    Government     Central Intelligence Agency          4.3\n",
       "4  Banks and Financial Services  Federal Reserve Bank of Dallas          4.1\n",
       "6                    Government                     NYC Careers          3.8\n",
       "8         Education and Schools             University of Idaho          4.2"
      ]
     },
     "execution_count": 11,
     "metadata": {},
     "output_type": "execute_result"
    }
   ],
   "source": [
    "df_company.head()"
   ]
  },
  {
   "cell_type": "code",
   "execution_count": 12,
   "metadata": {},
   "outputs": [
    {
     "data": {
      "image/png": "[encoded data removed]",
      "text/plain": [
       "<Figure size 432x288 with 1 Axes>"
      ]
     },
     "metadata": {
      "needs_background": "light"
     },
     "output_type": "display_data"
    }
   ],
   "source": [
    "#list top five companies per top five industries- Industry 1\n",
    "\n",
    "top_5_industry_1 = df_company.loc[df_company['Company_Industry'] == 'Consulting and Business Services', :]\n",
    "\n",
    "rating_table = top_5_industry_1.groupby(['Company']).agg(['mean'])\n",
    "\n",
    "job_count_table = top_5_industry_1.groupby(['Company']).agg(['count'])\n",
    "\n",
    "\n",
    "job_count_table = job_count_table['Company_Industry']\n",
    "finalTable = pd.concat([job_count_table,rating_table], axis=1) \n",
    "finalTable = finalTable.sort_values(by=['count'], ascending=False)\n",
    "finalTable = finalTable[:5]\n",
    "\n",
    "finalTable = finalTable['No_of_Stars', 'mean']\n",
    "labels = finalTable.index\n",
    "sizes = finalTable.values\n",
    "\n",
    "objects = labels\n",
    "y_pos = np.arange(len(objects))\n",
    "performance = sizes\n",
    "color= ('yellowgreen')\n",
    "# plt.rcParams['xtick.bottom'] = plt.rcParams['xtick.labelbottom'] = True\n",
    "# plt.rcParams['xtick.top'] = plt.rcParams['xtick.labeltop'] = False\n",
    "plt.bar(y_pos, performance, align='center', color = color, alpha=0.5)\n",
    "plt.xticks(y_pos, objects,rotation=25)\n",
    "plt.ylabel('Rating')\n",
    "plt.title('Top 5 Companies in Consulting and Business Services')\n",
    "\n",
    "for i, v in enumerate(sizes):\n",
    "    plt.text(y_pos[i] , v + 0.01, str(round(v, 2)))\n",
    "    \n",
    "plt.savefig('barind3.png', bbox_inches=\"tight\", transparent = True)\n",
    "plt.show()\n",
    "\n",
    "\n",
    "       "
   ]
  },
  {
   "cell_type": "code",
   "execution_count": 13,
   "metadata": {},
   "outputs": [
    {
     "data": {
      "image/png": "[encoded data removed]",
      "text/plain": [
       "<Figure size 432x288 with 1 Axes>"
      ]
     },
     "metadata": {
      "needs_background": "light"
     },
     "output_type": "display_data"
    }
   ],
   "source": [
    "#list top five companies per top five industries- Industry 2\n",
    "\n",
    "top_5_industry_1 = df_company.loc[df_company['Company_Industry'] == 'Internet and Software', :]\n",
    "\n",
    "rating_table = top_5_industry_1.groupby(['Company']).agg(['mean'])\n",
    "\n",
    "job_count_table = top_5_industry_1.groupby(['Company']).agg(['count'])\n",
    "\n",
    "\n",
    "job_count_table = job_count_table['Company_Industry']\n",
    "finalTable = pd.concat([job_count_table,rating_table], axis=1) \n",
    "finalTable = finalTable.sort_values(by=['count'], ascending=False)\n",
    "finalTable = finalTable[:5]\n",
    "\n",
    "finalTable = finalTable['No_of_Stars', 'mean']\n",
    "labels = finalTable.index\n",
    "sizes = finalTable.values\n",
    "\n",
    "objects = labels\n",
    "y_pos = np.arange(len(objects))\n",
    "performance = sizes\n",
    "color= ('orangered')\n",
    "# plt.rcParams['xtick.bottom'] = plt.rcParams['xtick.labelbottom'] = True\n",
    "# plt.rcParams['xtick.top'] = plt.rcParams['xtick.labeltop'] = False\n",
    "plt.bar(y_pos, performance, align='center', color = color, alpha=0.5)\n",
    "plt.xticks(y_pos, objects,rotation=25)\n",
    "plt.ylabel('Rating')\n",
    "plt.title('Top 5 Companies in Internet and Software')\n",
    "\n",
    "for i, v in enumerate(sizes):\n",
    "    plt.text(y_pos[i] , v + 0.01, str(round(v, 2)))\n",
    "    \n",
    "plt.savefig('barind3.png', bbox_inches=\"tight\", transparent = True)\n",
    "plt.show()\n",
    "\n",
    "\n",
    "       "
   ]
  },
  {
   "cell_type": "code",
   "execution_count": 14,
   "metadata": {},
   "outputs": [
    {
     "data": {
      "image/png": "[encoded data removed]",
      "text/plain": [
       "<Figure size 432x288 with 1 Axes>"
      ]
     },
     "metadata": {
      "needs_background": "light"
     },
     "output_type": "display_data"
    }
   ],
   "source": [
    "#list top five companies per top five industries- Industry 3\n",
    "\n",
    "top_5_industry_1 = df_company.loc[df_company['Company_Industry'] == 'Banks and Financial Services', :]\n",
    "\n",
    "rating_table = top_5_industry_1.groupby(['Company']).agg(['mean'])\n",
    "\n",
    "job_count_table = top_5_industry_1.groupby(['Company']).agg(['count'])\n",
    "\n",
    "\n",
    "job_count_table = job_count_table['Company_Industry']\n",
    "finalTable = pd.concat([job_count_table,rating_table], axis=1) \n",
    "finalTable = finalTable.sort_values(by=['count'], ascending=False)\n",
    "finalTable = finalTable[:5]\n",
    "\n",
    "finalTable = finalTable['No_of_Stars', 'mean']\n",
    "labels = finalTable.index\n",
    "sizes = finalTable.values\n",
    "\n",
    "objects = labels\n",
    "y_pos = np.arange(len(objects))\n",
    "performance = sizes\n",
    "color= ('red')\n",
    "# plt.rcParams['xtick.bottom'] = plt.rcParams['xtick.labelbottom'] = True\n",
    "# plt.rcParams['xtick.top'] = plt.rcParams['xtick.labeltop'] = False\n",
    "plt.bar(y_pos, performance, align='center', color = color, alpha=0.5)\n",
    "plt.xticks(y_pos, objects,rotation=25)\n",
    "plt.ylabel('Rating')\n",
    "plt.title('Top 5 Companies in Banks and Financial Services')\n",
    "\n",
    "for i, v in enumerate(sizes):\n",
    "    plt.text(y_pos[i] , v + 0.01, str(round(v, 2)))\n",
    "    \n",
    "plt.savefig('barind3.png', bbox_inches=\"tight\", transparent = True)\n",
    "plt.show()\n",
    "\n",
    "\n",
    "       "
   ]
  },
  {
   "cell_type": "code",
   "execution_count": 15,
   "metadata": {},
   "outputs": [
    {
     "data": {
      "image/png": "[encoded data removed]",
      "text/plain": [
       "<Figure size 432x288 with 1 Axes>"
      ]
     },
     "metadata": {
      "needs_background": "light"
     },
     "output_type": "display_data"
    }
   ],
   "source": [
    "#list top five companies per top five industries- Industry 4\n",
    "\n",
    "top_5_industry_1 = df_company.loc[df_company['Company_Industry'] == 'Health Care', :]\n",
    "\n",
    "rating_table = top_5_industry_1.groupby(['Company']).agg(['mean'])\n",
    "\n",
    "job_count_table = top_5_industry_1.groupby(['Company']).agg(['count'])\n",
    "\n",
    "\n",
    "job_count_table = job_count_table['Company_Industry']\n",
    "finalTable = pd.concat([job_count_table,rating_table], axis=1) \n",
    "finalTable = finalTable.sort_values(by=['count'], ascending=False)\n",
    "finalTable = finalTable[:5]\n",
    "\n",
    "finalTable = finalTable['No_of_Stars', 'mean']\n",
    "labels = finalTable.index\n",
    "sizes = finalTable.values\n",
    "\n",
    "objects = labels\n",
    "y_pos = np.arange(len(objects))\n",
    "performance = sizes\n",
    "color= ('cornflowerblue')\n",
    "# plt.rcParams['xtick.bottom'] = plt.rcParams['xtick.labelbottom'] = True\n",
    "# plt.rcParams['xtick.top'] = plt.rcParams['xtick.labeltop'] = False\n",
    "plt.bar(y_pos, performance, align='center', color = color, alpha=0.5)\n",
    "plt.xticks(y_pos, objects,rotation=25)\n",
    "plt.ylabel('Rating')\n",
    "plt.title('Top 5 Companies in Health Care')\n",
    "\n",
    "for i, v in enumerate(sizes):\n",
    "    plt.text(y_pos[i] , v + 0.01, str(round(v, 2)))\n",
    "    \n",
    "plt.savefig('barind3.png', bbox_inches=\"tight\", transparent = True)\n",
    "plt.show()\n",
    "\n",
    "\n",
    "       "
   ]
  },
  {
   "cell_type": "code",
   "execution_count": 16,
   "metadata": {},
   "outputs": [
    {
     "data": {
      "image/png": "[encoded data removed]",
      "text/plain": [
       "<Figure size 432x288 with 1 Axes>"
      ]
     },
     "metadata": {
      "needs_background": "light"
     },
     "output_type": "display_data"
    }
   ],
   "source": [
    "#list top five companies per top five industries- Industry 5\n",
    "\n",
    "top_5_industry_1 = df_company.loc[df_company['Company_Industry'] == 'Insurance', :]\n",
    "\n",
    "rating_table = top_5_industry_1.groupby(['Company']).agg(['mean'])\n",
    "\n",
    "job_count_table = top_5_industry_1.groupby(['Company']).agg(['count'])\n",
    "\n",
    "\n",
    "job_count_table = job_count_table['Company_Industry']\n",
    "finalTable = pd.concat([job_count_table,rating_table], axis=1) \n",
    "finalTable = finalTable.sort_values(by=['count'], ascending=False)\n",
    "finalTable = finalTable[:5]\n",
    "\n",
    "finalTable = finalTable['No_of_Stars', 'mean']\n",
    "labels = finalTable.index\n",
    "sizes = finalTable.values\n",
    "\n",
    "objects = labels\n",
    "y_pos = np.arange(len(objects))\n",
    "performance = sizes\n",
    "color= ('yellow')\n",
    "# plt.rcParams['xtick.bottom'] = plt.rcParams['xtick.labelbottom'] = True\n",
    "# plt.rcParams['xtick.top'] = plt.rcParams['xtick.labeltop'] = False\n",
    "plt.bar(y_pos, performance, align='center', color = color, alpha=0.5)\n",
    "plt.xticks(y_pos, objects,rotation=25)\n",
    "plt.ylabel('Rating')\n",
    "plt.title('Top 5 Companies in Insurance')\n",
    "\n",
    "for i, v in enumerate(sizes):\n",
    "    plt.text(y_pos[i] , v + 0.01, str(round(v, 2)))\n",
    "    \n",
    "plt.savefig('barind3.png', bbox_inches=\"tight\", transparent = True)\n",
    "plt.show()\n",
    "\n",
    "\n",
    "       "
   ]
  },
  {
   "cell_type": "code",
   "execution_count": 17,
   "metadata": {},
   "outputs": [
    {
     "data": {
      "image/png": "[encoded data removed]",
      "text/plain": [
       "<Figure size 432x288 with 1 Axes>"
      ]
     },
     "metadata": {
      "needs_background": "light"
     },
     "output_type": "display_data"
    },
    {
     "data": {
      "image/png": "[encoded data removed]",
      "text/plain": [
       "<Figure size 432x288 with 1 Axes>"
      ]
     },
     "metadata": {
      "needs_background": "light"
     },
     "output_type": "display_data"
    },
    {
     "data": {
      "image/png": "[encoded data removed]",
      "text/plain": [
       "<Figure size 432x288 with 1 Axes>"
      ]
     },
     "metadata": {
      "needs_background": "light"
     },
     "output_type": "display_data"
    },
    {
     "data": {
      "image/png": "[encoded data removed]",
      "text/plain": [
       "<Figure size 432x288 with 1 Axes>"
      ]
     },
     "metadata": {
      "needs_background": "light"
     },
     "output_type": "display_data"
    },
    {
     "data": {
      "image/png": "[encoded data removed]",
      "text/plain": [
       "<Figure size 432x288 with 1 Axes>"
      ]
     },
     "metadata": {
      "needs_background": "light"
     },
     "output_type": "display_data"
    }
   ],
   "source": [
    "#four looping companies per top five industries\n",
    "\n",
    "for i in target_series.index :\n",
    "    top_5_industry_1 = df_company.loc[df_company['Company_Industry'] == i, :]\n",
    "\n",
    "    rating_table = top_5_industry_1.groupby(['Company']).agg(['mean'])\n",
    "\n",
    "    job_count_table = top_5_industry_1.groupby(['Company']).agg(['count'])\n",
    "\n",
    "\n",
    "\n",
    "\n",
    "    job_count_table = job_count_table['Company_Industry']\n",
    "    finalTable = pd.concat([job_count_table,rating_table], axis=1) \n",
    "    finalTable = finalTable.sort_values(by=['count'], ascending=False)\n",
    "    finalTable = finalTable[:5]\n",
    "\n",
    "    finalTable = finalTable['No_of_Stars', 'mean']\n",
    "   \n",
    "    labels = finalTable.index\n",
    "    sizes = finalTable.values\n",
    "    objects = labels\n",
    "    y_pos = np.arange(len(objects))\n",
    "    performance = sizes\n",
    "    colors = colors = [\"yellowgreen\",\"orange\",\"orangered\",\"cornflowerblue\",\"yellow\"]\n",
    "\n",
    "    plt.bar(y_pos, performance, align='center', alpha=0.5)\n",
    "    plt.xticks(y_pos, objects,rotation=40)\n",
    "    plt.ylabel('Rating')\n",
    "    plt.title('Top 5 Companies in Industry')\n",
    "\n",
    "\n",
    "\n",
    "    plt.show()\n",
    "       "
   ]
  },
  {
   "cell_type": "markdown",
   "metadata": {},
   "source": [
    "# Company Reviews:"
   ]
  },
  {
   "cell_type": "code",
   "execution_count": 18,
   "metadata": {},
   "outputs": [
    {
     "data": {
      "text/html": [
       "<div>\n",
       "<style scoped>\n",
       "    .dataframe tbody tr th:only-of-type {\n",
       "        vertical-align: middle;\n",
       "    }\n",
       "\n",
       "    .dataframe tbody tr th {\n",
       "        vertical-align: top;\n",
       "    }\n",
       "\n",
       "    .dataframe thead th {\n",
       "        text-align: right;\n",
       "    }\n",
       "</style>\n",
       "<table border=\"1\" class=\"dataframe\">\n",
       "  <thead>\n",
       "    <tr style=\"text-align: right;\">\n",
       "      <th></th>\n",
       "      <th>Company_Industry</th>\n",
       "      <th>Company</th>\n",
       "    </tr>\n",
       "  </thead>\n",
       "  <tbody>\n",
       "    <tr>\n",
       "      <th>0</th>\n",
       "      <td>Aerospace and Defense</td>\n",
       "      <td>129</td>\n",
       "    </tr>\n",
       "    <tr>\n",
       "      <th>1</th>\n",
       "      <td>Agriculture and Extraction</td>\n",
       "      <td>18</td>\n",
       "    </tr>\n",
       "    <tr>\n",
       "      <th>2</th>\n",
       "      <td>Auto</td>\n",
       "      <td>45</td>\n",
       "    </tr>\n",
       "    <tr>\n",
       "      <th>3</th>\n",
       "      <td>Banks and Financial Services</td>\n",
       "      <td>459</td>\n",
       "    </tr>\n",
       "    <tr>\n",
       "      <th>4</th>\n",
       "      <td>Computers and Electronics</td>\n",
       "      <td>99</td>\n",
       "    </tr>\n",
       "  </tbody>\n",
       "</table>\n",
       "</div>"
      ],
      "text/plain": [
       "               Company_Industry  Company\n",
       "0         Aerospace and Defense      129\n",
       "1    Agriculture and Extraction       18\n",
       "2                          Auto       45\n",
       "3  Banks and Financial Services      459\n",
       "4     Computers and Electronics       99"
      ]
     },
     "execution_count": 18,
     "metadata": {},
     "output_type": "execute_result"
    }
   ],
   "source": [
    "#Part A\n",
    "df_industry_count = df_company.groupby(['Company_Industry']).count()\n",
    "df_industry_count = df_industry_count[['Company']]\n",
    "\n",
    "df_industry_count = df_industry_count.reset_index()\n",
    "df_industry_count.head()"
   ]
  },
  {
   "cell_type": "code",
   "execution_count": 19,
   "metadata": {},
   "outputs": [
    {
     "data": {
      "text/html": [
       "<div>\n",
       "<style scoped>\n",
       "    .dataframe tbody tr th:only-of-type {\n",
       "        vertical-align: middle;\n",
       "    }\n",
       "\n",
       "    .dataframe tbody tr th {\n",
       "        vertical-align: top;\n",
       "    }\n",
       "\n",
       "    .dataframe thead th {\n",
       "        text-align: right;\n",
       "    }\n",
       "</style>\n",
       "<table border=\"1\" class=\"dataframe\">\n",
       "  <thead>\n",
       "    <tr style=\"text-align: right;\">\n",
       "      <th></th>\n",
       "      <th>Company_Industry</th>\n",
       "      <th>No_of_Stars</th>\n",
       "    </tr>\n",
       "  </thead>\n",
       "  <tbody>\n",
       "    <tr>\n",
       "      <th>0</th>\n",
       "      <td>Aerospace and Defense</td>\n",
       "      <td>4.00</td>\n",
       "    </tr>\n",
       "    <tr>\n",
       "      <th>1</th>\n",
       "      <td>Agriculture and Extraction</td>\n",
       "      <td>4.14</td>\n",
       "    </tr>\n",
       "    <tr>\n",
       "      <th>2</th>\n",
       "      <td>Auto</td>\n",
       "      <td>3.68</td>\n",
       "    </tr>\n",
       "    <tr>\n",
       "      <th>3</th>\n",
       "      <td>Banks and Financial Services</td>\n",
       "      <td>3.81</td>\n",
       "    </tr>\n",
       "    <tr>\n",
       "      <th>4</th>\n",
       "      <td>Computers and Electronics</td>\n",
       "      <td>3.93</td>\n",
       "    </tr>\n",
       "  </tbody>\n",
       "</table>\n",
       "</div>"
      ],
      "text/plain": [
       "               Company_Industry  No_of_Stars\n",
       "0         Aerospace and Defense         4.00\n",
       "1    Agriculture and Extraction         4.14\n",
       "2                          Auto         3.68\n",
       "3  Banks and Financial Services         3.81\n",
       "4     Computers and Electronics         3.93"
      ]
     },
     "execution_count": 19,
     "metadata": {},
     "output_type": "execute_result"
    }
   ],
   "source": [
    "#Part B\n",
    "df_industry_mean = df_company.groupby(['Company_Industry']).mean()\n",
    "df_industry_mean.reset_index(inplace=True)\n",
    "df_industry_mean.head().round(2)"
   ]
  },
  {
   "cell_type": "code",
   "execution_count": 31,
   "metadata": {},
   "outputs": [
    {
     "data": {
      "text/html": [
       "<div>\n",
       "<style scoped>\n",
       "    .dataframe tbody tr th:only-of-type {\n",
       "        vertical-align: middle;\n",
       "    }\n",
       "\n",
       "    .dataframe tbody tr th {\n",
       "        vertical-align: top;\n",
       "    }\n",
       "\n",
       "    .dataframe thead th {\n",
       "        text-align: right;\n",
       "    }\n",
       "</style>\n",
       "<table border=\"1\" class=\"dataframe\">\n",
       "  <thead>\n",
       "    <tr style=\"text-align: right;\">\n",
       "      <th></th>\n",
       "      <th>index</th>\n",
       "      <th>Company_Industry</th>\n",
       "      <th>No_of_Stars</th>\n",
       "      <th>Company</th>\n",
       "    </tr>\n",
       "  </thead>\n",
       "  <tbody>\n",
       "    <tr>\n",
       "      <th>0</th>\n",
       "      <td>6</td>\n",
       "      <td>Consulting and Business Services</td>\n",
       "      <td>3.95</td>\n",
       "      <td>733</td>\n",
       "    </tr>\n",
       "    <tr>\n",
       "      <th>1</th>\n",
       "      <td>21</td>\n",
       "      <td>Internet and Software</td>\n",
       "      <td>3.99</td>\n",
       "      <td>647</td>\n",
       "    </tr>\n",
       "    <tr>\n",
       "      <th>2</th>\n",
       "      <td>3</td>\n",
       "      <td>Banks and Financial Services</td>\n",
       "      <td>3.81</td>\n",
       "      <td>459</td>\n",
       "    </tr>\n",
       "    <tr>\n",
       "      <th>3</th>\n",
       "      <td>13</td>\n",
       "      <td>Health Care</td>\n",
       "      <td>3.79</td>\n",
       "      <td>339</td>\n",
       "    </tr>\n",
       "    <tr>\n",
       "      <th>4</th>\n",
       "      <td>19</td>\n",
       "      <td>Insurance</td>\n",
       "      <td>3.77</td>\n",
       "      <td>227</td>\n",
       "    </tr>\n",
       "  </tbody>\n",
       "</table>\n",
       "</div>"
      ],
      "text/plain": [
       "   index                  Company_Industry  No_of_Stars  Company\n",
       "0      6  Consulting and Business Services         3.95      733\n",
       "1     21             Internet and Software         3.99      647\n",
       "2      3      Banks and Financial Services         3.81      459\n",
       "3     13                       Health Care         3.79      339\n",
       "4     19                         Insurance         3.77      227"
      ]
     },
     "execution_count": 31,
     "metadata": {},
     "output_type": "execute_result"
    }
   ],
   "source": [
    "#Merge between A+B\n",
    "df_company_sort = df_industry_mean.merge(df_industry_count).sort_values(['Company'],ascending=False)\n",
    "df_company_sort.reset_index(inplace=True)\n",
    "df_company_sort.head().round(2)"
   ]
  },
  {
   "cell_type": "code",
   "execution_count": 21,
   "metadata": {},
   "outputs": [
    {
     "data": {
      "text/plain": [
       "count    3775.000000\n",
       "mean        3.875417\n",
       "std         0.358757\n",
       "min         2.000000\n",
       "25%         3.700000\n",
       "50%         3.900000\n",
       "75%         4.100000\n",
       "max         5.000000\n",
       "Name: No_of_Stars, dtype: float64"
      ]
     },
     "execution_count": 21,
     "metadata": {},
     "output_type": "execute_result"
    }
   ],
   "source": [
    "df_company['No_of_Stars'].describe()"
   ]
  },
  {
   "cell_type": "code",
   "execution_count": 22,
   "metadata": {},
   "outputs": [
    {
     "data": {
      "text/html": [
       "<div>\n",
       "<style scoped>\n",
       "    .dataframe tbody tr th:only-of-type {\n",
       "        vertical-align: middle;\n",
       "    }\n",
       "\n",
       "    .dataframe tbody tr th {\n",
       "        vertical-align: top;\n",
       "    }\n",
       "\n",
       "    .dataframe thead th {\n",
       "        text-align: right;\n",
       "    }\n",
       "</style>\n",
       "<table border=\"1\" class=\"dataframe\">\n",
       "  <thead>\n",
       "    <tr style=\"text-align: right;\">\n",
       "      <th></th>\n",
       "      <th>index</th>\n",
       "      <th>No_of_Stars</th>\n",
       "      <th>Company</th>\n",
       "    </tr>\n",
       "  </thead>\n",
       "  <tbody>\n",
       "    <tr>\n",
       "      <th>index</th>\n",
       "      <td>1.000000</td>\n",
       "      <td>-0.202705</td>\n",
       "      <td>-0.216501</td>\n",
       "    </tr>\n",
       "    <tr>\n",
       "      <th>No_of_Stars</th>\n",
       "      <td>-0.202705</td>\n",
       "      <td>1.000000</td>\n",
       "      <td>0.279528</td>\n",
       "    </tr>\n",
       "    <tr>\n",
       "      <th>Company</th>\n",
       "      <td>-0.216501</td>\n",
       "      <td>0.279528</td>\n",
       "      <td>1.000000</td>\n",
       "    </tr>\n",
       "  </tbody>\n",
       "</table>\n",
       "</div>"
      ],
      "text/plain": [
       "                index  No_of_Stars   Company\n",
       "index        1.000000    -0.202705 -0.216501\n",
       "No_of_Stars -0.202705     1.000000  0.279528\n",
       "Company     -0.216501     0.279528  1.000000"
      ]
     },
     "execution_count": 22,
     "metadata": {},
     "output_type": "execute_result"
    }
   ],
   "source": [
    "#27.95% corr between the # of job postings and the average star rating \n",
    "import seaborn as sns\n",
    "data2 = df_company_sort\n",
    "corr = data2.corr()\n",
    "corr"
   ]
  },
  {
   "cell_type": "code",
   "execution_count": 23,
   "metadata": {},
   "outputs": [
    {
     "data": {
      "text/plain": [
       "Consulting and Business Services    733\n",
       "Internet and Software               647\n",
       "Banks and Financial Services        459\n",
       "Health Care                         339\n",
       "Insurance                           227\n",
       "Name: Company_Industry, dtype: int64"
      ]
     },
     "execution_count": 23,
     "metadata": {},
     "output_type": "execute_result"
    }
   ],
   "source": [
    "series_by_industry.head(5)"
   ]
  }
 ],
 "metadata": {
  "kernelspec": {
   "display_name": "Python 3",
   "language": "python",
   "name": "python3"
  },
  "language_info": {
   "codemirror_mode": {
    "name": "ipython",
    "version": 3
   },
   "file_extension": ".py",
   "mimetype": "text/x-python",
   "name": "python",
   "nbconvert_exporter": "python",
   "pygments_lexer": "ipython3",
   "version": "3.7.1"
  }
 },
 "nbformat": 4,
 "nbformat_minor": 2
}
